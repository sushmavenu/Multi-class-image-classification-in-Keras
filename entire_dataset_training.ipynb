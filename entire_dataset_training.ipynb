{
  "nbformat": 4,
  "nbformat_minor": 0,
  "metadata": {
    "colab": {
      "name": "entire dataset training.ipynb",
      "provenance": [],
      "collapsed_sections": []
    },
    "kernelspec": {
      "name": "python3",
      "display_name": "Python 3"
    },
    "language_info": {
      "name": "python"
    },
    "accelerator": "GPU"
  },
  "cells": [
    {
      "cell_type": "code",
      "metadata": {
        "colab": {
          "base_uri": "https://localhost:8080/"
        },
        "id": "4ASIgZ5hk5mN",
        "outputId": "472d99ee-6241-4321-9cfb-105ca214970b"
      },
      "source": [
        "import tensorflow as tf\n",
        "\n",
        "from tensorflow import keras\n",
        "\n",
        "from tensorflow.keras.models import Sequential\n",
        "from tensorflow.keras.layers import Dense, Dropout, LSTM, BatchNormalization\n",
        "from tensorflow.keras.callbacks import ModelCheckpoint\n",
        "import tensorflow.keras.optimizers\n",
        "from tensorflow.keras import layers\n",
        "from tensorflow.keras.preprocessing.image import ImageDataGenerator\n",
        "from tensorflow.keras.layers.experimental.preprocessing import Rescaling\n",
        "from keras.callbacks import EarlyStopping\n",
        "\n",
        "\n",
        "import numpy as np\n",
        "import matplotlib.pyplot as plt\n",
        "\n",
        "from google.colab import drive\n",
        "import os\n",
        "import cv2\n",
        "import glob\n",
        "drive.mount('/content/drive')"
      ],
      "execution_count": 1,
      "outputs": [
        {
          "output_type": "stream",
          "text": [
            "Mounted at /content/drive\n"
          ],
          "name": "stdout"
        }
      ]
    },
    {
      "cell_type": "code",
      "metadata": {
        "id": "R-dUCcPbmbxK"
      },
      "source": [
        "base_dir='/content/drive/MyDrive/DATA/final_data'"
      ],
      "execution_count": 2,
      "outputs": []
    },
    {
      "cell_type": "code",
      "metadata": {
        "colab": {
          "base_uri": "https://localhost:8080/"
        },
        "id": "uHfG_lKIlaBQ",
        "outputId": "5afa51d5-0311-4a53-cc89-75579434baeb"
      },
      "source": [
        "from tensorflow.keras.applications.mobilenet import MobileNet\n",
        "\n",
        "base_mob = MobileNet(weights='imagenet',\n",
        "                  include_top=False,\n",
        "                  input_shape=(224, 224, 3))\n",
        "\n",
        "base_mob.trainable = False"
      ],
      "execution_count": 3,
      "outputs": [
        {
          "output_type": "stream",
          "text": [
            "Downloading data from https://storage.googleapis.com/tensorflow/keras-applications/mobilenet/mobilenet_1_0_224_tf_no_top.h5\n",
            "17227776/17225924 [==============================] - 0s 0us/step\n"
          ],
          "name": "stdout"
        }
      ]
    },
    {
      "cell_type": "code",
      "metadata": {
        "id": "m2AXaU4-lkgQ"
      },
      "source": [
        "from keras import models\n",
        "from keras import layers\n",
        "from keras.callbacks import EarlyStopping\n",
        "\n",
        "model = models.Sequential()\n",
        "model.add(layers.InputLayer(input_shape=(224,224,3)))\n",
        "model.add(base_mob)\n",
        "model.add(layers.Flatten())\n",
        "model.add(layers.Dense(256, activation='relu'))\n",
        "model.add(layers.Dense(5, activation='softmax'))\n",
        "\n",
        "callback_1 = ModelCheckpoint('model.pt',\n",
        "\t\t\t\t\t\t\t  monitor='val_acc',\n",
        "\t\t\t\t\t\t\t  save_best_only = True,\n",
        "\t\t\t\t\t\t\t  mode='max',\n",
        "\t\t\t\t\t\t\t  verbose=2)\n",
        "callback_2 = EarlyStopping(patience = 15)\n",
        "callback_list = [callback_1, callback_2]\n",
        "\n",
        "model.compile(loss='categorical_crossentropy',\n",
        "              optimizer=\"sgd\",\n",
        "              metrics=['acc'])"
      ],
      "execution_count": 4,
      "outputs": []
    },
    {
      "cell_type": "code",
      "metadata": {
        "colab": {
          "base_uri": "https://localhost:8080/"
        },
        "id": "NNv3L4S3mTeP",
        "outputId": "96d5dd35-28cf-45af-eebf-b0a0f4092536"
      },
      "source": [
        "train_datagen = ImageDataGenerator(\n",
        "      rescale=1./255,\n",
        "      fill_mode='nearest')\n",
        "\n",
        "# Note that the validation data should not be augmented!\n",
        "test_datagen = ImageDataGenerator(rescale=1./255,validation_split=0.2)\n",
        "\n",
        "train_generator = train_datagen.flow_from_directory(\n",
        "        base_dir,\n",
        "        subset='training',\n",
        "        target_size=(224, 224),\n",
        "        seed=0,\n",
        "        batch_size=10,\n",
        "        class_mode='categorical')\n",
        "\n",
        "validation_generator = test_datagen.flow_from_directory(\n",
        "        base_dir,\n",
        "        subset='validation',\n",
        "        target_size=(224, 224),\n",
        "        seed=0,\n",
        "        batch_size=10,\n",
        "        class_mode='categorical')"
      ],
      "execution_count": 5,
      "outputs": [
        {
          "output_type": "stream",
          "text": [
            "Found 2499 images belonging to 5 classes.\n",
            "Found 499 images belonging to 5 classes.\n"
          ],
          "name": "stdout"
        }
      ]
    },
    {
      "cell_type": "code",
      "metadata": {
        "colab": {
          "base_uri": "https://localhost:8080/"
        },
        "id": "QDp1-QSgmvnU",
        "outputId": "dfff5c88-544f-4f9c-cf99-90ae1fce40b9"
      },
      "source": [
        "history = model.fit(\n",
        "      train_generator,\n",
        "      steps_per_epoch=20,\n",
        "      epochs=50,\n",
        "      validation_data=validation_generator,\n",
        "      validation_steps=10,\n",
        "      verbose=2,\n",
        "      callbacks=callback_list)"
      ],
      "execution_count": 6,
      "outputs": [
        {
          "output_type": "stream",
          "text": [
            "Epoch 1/50\n",
            "20/20 - 134s - loss: 6.6973 - acc: 0.4200 - val_loss: 0.9167 - val_acc: 0.6700\n",
            "\n",
            "Epoch 00001: val_acc improved from -inf to 0.67000, saving model to model.pt\n",
            "INFO:tensorflow:Assets written to: model.pt/assets\n",
            "Epoch 2/50\n",
            "20/20 - 92s - loss: 0.9535 - acc: 0.6600 - val_loss: 1.0945 - val_acc: 0.5400\n",
            "\n",
            "Epoch 00002: val_acc did not improve from 0.67000\n",
            "Epoch 3/50\n",
            "20/20 - 82s - loss: 0.7605 - acc: 0.7300 - val_loss: 0.4912 - val_acc: 0.8200\n",
            "\n",
            "Epoch 00003: val_acc improved from 0.67000 to 0.82000, saving model to model.pt\n",
            "INFO:tensorflow:Assets written to: model.pt/assets\n",
            "Epoch 4/50\n",
            "20/20 - 84s - loss: 0.5947 - acc: 0.7650 - val_loss: 0.2987 - val_acc: 0.9300\n",
            "\n",
            "Epoch 00004: val_acc improved from 0.82000 to 0.93000, saving model to model.pt\n",
            "INFO:tensorflow:Assets written to: model.pt/assets\n",
            "Epoch 5/50\n",
            "20/20 - 63s - loss: 0.5610 - acc: 0.7600 - val_loss: 0.3438 - val_acc: 0.8485\n",
            "\n",
            "Epoch 00005: val_acc did not improve from 0.93000\n",
            "Epoch 6/50\n",
            "20/20 - 51s - loss: 0.6393 - acc: 0.7800 - val_loss: 0.5163 - val_acc: 0.8300\n",
            "\n",
            "Epoch 00006: val_acc did not improve from 0.93000\n",
            "Epoch 7/50\n",
            "20/20 - 55s - loss: 0.4769 - acc: 0.8100 - val_loss: 0.2938 - val_acc: 0.9300\n",
            "\n",
            "Epoch 00007: val_acc did not improve from 0.93000\n",
            "Epoch 8/50\n",
            "20/20 - 59s - loss: 0.5117 - acc: 0.8150 - val_loss: 0.2972 - val_acc: 0.9000\n",
            "\n",
            "Epoch 00008: val_acc did not improve from 0.93000\n",
            "Epoch 9/50\n",
            "20/20 - 55s - loss: 0.5089 - acc: 0.8400 - val_loss: 0.1778 - val_acc: 0.9700\n",
            "\n",
            "Epoch 00009: val_acc improved from 0.93000 to 0.97000, saving model to model.pt\n",
            "INFO:tensorflow:Assets written to: model.pt/assets\n",
            "Epoch 10/50\n",
            "20/20 - 54s - loss: 0.3036 - acc: 0.8700 - val_loss: 0.3501 - val_acc: 0.8687\n",
            "\n",
            "Epoch 00010: val_acc did not improve from 0.97000\n",
            "Epoch 11/50\n",
            "20/20 - 57s - loss: 0.4957 - acc: 0.8450 - val_loss: 0.4721 - val_acc: 0.8100\n",
            "\n",
            "Epoch 00011: val_acc did not improve from 0.97000\n",
            "Epoch 12/50\n",
            "20/20 - 61s - loss: 0.3701 - acc: 0.8700 - val_loss: 0.1621 - val_acc: 0.9400\n",
            "\n",
            "Epoch 00012: val_acc did not improve from 0.97000\n",
            "Epoch 13/50\n",
            "20/20 - 31s - loss: 0.2154 - acc: 0.9196 - val_loss: 0.2510 - val_acc: 0.9200\n",
            "\n",
            "Epoch 00013: val_acc did not improve from 0.97000\n",
            "Epoch 14/50\n",
            "20/20 - 3s - loss: 0.2644 - acc: 0.9200 - val_loss: 0.1406 - val_acc: 0.9697\n",
            "\n",
            "Epoch 00014: val_acc did not improve from 0.97000\n",
            "Epoch 15/50\n",
            "20/20 - 4s - loss: 0.0765 - acc: 0.9800 - val_loss: 0.1200 - val_acc: 0.9800\n",
            "\n",
            "Epoch 00015: val_acc improved from 0.97000 to 0.98000, saving model to model.pt\n",
            "INFO:tensorflow:Assets written to: model.pt/assets\n",
            "Epoch 16/50\n",
            "20/20 - 4s - loss: 0.2019 - acc: 0.9350 - val_loss: 0.1720 - val_acc: 0.9600\n",
            "\n",
            "Epoch 00016: val_acc did not improve from 0.98000\n",
            "Epoch 17/50\n",
            "20/20 - 3s - loss: 0.0584 - acc: 0.9800 - val_loss: 0.2519 - val_acc: 0.9300\n",
            "\n",
            "Epoch 00017: val_acc did not improve from 0.98000\n",
            "Epoch 18/50\n",
            "20/20 - 4s - loss: 0.2999 - acc: 0.9300 - val_loss: 0.0584 - val_acc: 0.9800\n",
            "\n",
            "Epoch 00018: val_acc did not improve from 0.98000\n",
            "Epoch 19/50\n",
            "20/20 - 4s - loss: 0.1656 - acc: 0.9450 - val_loss: 0.0784 - val_acc: 0.9596\n",
            "\n",
            "Epoch 00019: val_acc did not improve from 0.98000\n",
            "Epoch 20/50\n",
            "20/20 - 3s - loss: 0.1295 - acc: 0.9600 - val_loss: 0.0811 - val_acc: 0.9900\n",
            "\n",
            "Epoch 00020: val_acc improved from 0.98000 to 0.99000, saving model to model.pt\n",
            "INFO:tensorflow:Assets written to: model.pt/assets\n",
            "Epoch 21/50\n",
            "20/20 - 4s - loss: 0.1058 - acc: 0.9600 - val_loss: 0.1107 - val_acc: 0.9800\n",
            "\n",
            "Epoch 00021: val_acc did not improve from 0.99000\n",
            "Epoch 22/50\n",
            "20/20 - 4s - loss: 0.1403 - acc: 0.9650 - val_loss: 0.1202 - val_acc: 0.9700\n",
            "\n",
            "Epoch 00022: val_acc did not improve from 0.99000\n",
            "Epoch 23/50\n",
            "20/20 - 3s - loss: 0.1297 - acc: 0.9450 - val_loss: 0.0374 - val_acc: 1.0000\n",
            "\n",
            "Epoch 00023: val_acc improved from 0.99000 to 1.00000, saving model to model.pt\n",
            "INFO:tensorflow:Assets written to: model.pt/assets\n",
            "Epoch 24/50\n",
            "20/20 - 3s - loss: 0.1866 - acc: 0.9600 - val_loss: 0.1484 - val_acc: 0.9600\n",
            "\n",
            "Epoch 00024: val_acc did not improve from 1.00000\n",
            "Epoch 25/50\n",
            "20/20 - 4s - loss: 0.2731 - acc: 0.9196 - val_loss: 0.0841 - val_acc: 0.9900\n",
            "\n",
            "Epoch 00025: val_acc did not improve from 1.00000\n",
            "Epoch 26/50\n",
            "20/20 - 3s - loss: 0.0548 - acc: 0.9950 - val_loss: 0.0120 - val_acc: 0.9900\n",
            "\n",
            "Epoch 00026: val_acc did not improve from 1.00000\n",
            "Epoch 27/50\n",
            "20/20 - 4s - loss: 0.0193 - acc: 1.0000 - val_loss: 0.0383 - val_acc: 0.9900\n",
            "\n",
            "Epoch 00027: val_acc did not improve from 1.00000\n",
            "Epoch 28/50\n",
            "20/20 - 4s - loss: 0.0444 - acc: 0.9900 - val_loss: 0.1427 - val_acc: 0.9495\n",
            "\n",
            "Epoch 00028: val_acc did not improve from 1.00000\n",
            "Epoch 29/50\n",
            "20/20 - 4s - loss: 0.0341 - acc: 0.9950 - val_loss: 0.0133 - val_acc: 0.9900\n",
            "\n",
            "Epoch 00029: val_acc did not improve from 1.00000\n",
            "Epoch 30/50\n",
            "20/20 - 4s - loss: 0.0102 - acc: 1.0000 - val_loss: 0.0074 - val_acc: 1.0000\n",
            "\n",
            "Epoch 00030: val_acc did not improve from 1.00000\n",
            "Epoch 31/50\n",
            "20/20 - 4s - loss: 0.1407 - acc: 0.9700 - val_loss: 0.0468 - val_acc: 0.9800\n",
            "\n",
            "Epoch 00031: val_acc did not improve from 1.00000\n",
            "Epoch 32/50\n",
            "20/20 - 3s - loss: 0.0460 - acc: 0.9800 - val_loss: 0.0347 - val_acc: 0.9899\n",
            "\n",
            "Epoch 00032: val_acc did not improve from 1.00000\n",
            "Epoch 33/50\n",
            "20/20 - 4s - loss: 0.0587 - acc: 0.9850 - val_loss: 0.0957 - val_acc: 0.9600\n",
            "\n",
            "Epoch 00033: val_acc did not improve from 1.00000\n",
            "Epoch 34/50\n",
            "20/20 - 3s - loss: 0.0273 - acc: 0.9950 - val_loss: 0.0076 - val_acc: 1.0000\n",
            "\n",
            "Epoch 00034: val_acc did not improve from 1.00000\n",
            "Epoch 35/50\n",
            "20/20 - 4s - loss: 0.0254 - acc: 0.9900 - val_loss: 0.0298 - val_acc: 0.9900\n",
            "\n",
            "Epoch 00035: val_acc did not improve from 1.00000\n",
            "Epoch 36/50\n",
            "20/20 - 3s - loss: 0.1485 - acc: 0.9700 - val_loss: 0.0114 - val_acc: 1.0000\n",
            "\n",
            "Epoch 00036: val_acc did not improve from 1.00000\n",
            "Epoch 37/50\n",
            "20/20 - 4s - loss: 0.1053 - acc: 0.9650 - val_loss: 0.0091 - val_acc: 1.0000\n",
            "\n",
            "Epoch 00037: val_acc did not improve from 1.00000\n",
            "Epoch 38/50\n",
            "20/20 - 3s - loss: 0.0480 - acc: 0.9899 - val_loss: 0.0209 - val_acc: 0.9900\n",
            "\n",
            "Epoch 00038: val_acc did not improve from 1.00000\n",
            "Epoch 39/50\n",
            "20/20 - 3s - loss: 0.0297 - acc: 0.9950 - val_loss: 0.0523 - val_acc: 0.9700\n",
            "\n",
            "Epoch 00039: val_acc did not improve from 1.00000\n",
            "Epoch 40/50\n",
            "20/20 - 3s - loss: 0.0119 - acc: 0.9950 - val_loss: 0.0201 - val_acc: 0.9900\n",
            "\n",
            "Epoch 00040: val_acc did not improve from 1.00000\n",
            "Epoch 41/50\n",
            "20/20 - 4s - loss: 0.0156 - acc: 0.9900 - val_loss: 0.0135 - val_acc: 1.0000\n",
            "\n",
            "Epoch 00041: val_acc did not improve from 1.00000\n",
            "Epoch 42/50\n",
            "20/20 - 4s - loss: 0.0204 - acc: 0.9950 - val_loss: 0.0115 - val_acc: 1.0000\n",
            "\n",
            "Epoch 00042: val_acc did not improve from 1.00000\n",
            "Epoch 43/50\n",
            "20/20 - 4s - loss: 0.0181 - acc: 0.9950 - val_loss: 0.0243 - val_acc: 0.9900\n",
            "\n",
            "Epoch 00043: val_acc did not improve from 1.00000\n",
            "Epoch 44/50\n",
            "20/20 - 4s - loss: 0.0169 - acc: 0.9950 - val_loss: 0.0118 - val_acc: 1.0000\n",
            "\n",
            "Epoch 00044: val_acc did not improve from 1.00000\n",
            "Epoch 45/50\n",
            "20/20 - 4s - loss: 0.0137 - acc: 0.9950 - val_loss: 0.0081 - val_acc: 1.0000\n",
            "\n",
            "Epoch 00045: val_acc did not improve from 1.00000\n"
          ],
          "name": "stdout"
        }
      ]
    },
    {
      "cell_type": "code",
      "metadata": {
        "colab": {
          "base_uri": "https://localhost:8080/"
        },
        "id": "_2GN_i_2sCDR",
        "outputId": "987fa2e1-55eb-4a2b-880b-b0c257de0e06"
      },
      "source": [
        "train_datagen_aug = ImageDataGenerator(\n",
        "      rescale=1./255,\n",
        "      validation_split=0.2,\n",
        "      rotation_range=50,\n",
        "      width_shift_range=0.2,\n",
        "      height_shift_range=0.2,\n",
        "      shear_range=0.2,\n",
        "      zoom_range=0.2,\n",
        "      horizontal_flip=True,\n",
        "      fill_mode='nearest')\n",
        "\n",
        "# Note that the validation data should not be augmented!\n",
        "test_datagen = ImageDataGenerator(rescale=1./255,validation_split=0.2)\n",
        "\n",
        "train_generator_aug = train_datagen_aug.flow_from_directory(\n",
        "        base_dir,\n",
        "        subset='training',\n",
        "        target_size=(224, 224),\n",
        "        seed=0,\n",
        "        batch_size=10,\n",
        "        class_mode='categorical')\n",
        "\n",
        "validation_generator = test_datagen.flow_from_directory(\n",
        "        base_dir,\n",
        "        subset='validation',\n",
        "        target_size=(224, 224),\n",
        "        seed=0,\n",
        "        batch_size=10,\n",
        "        class_mode='categorical')"
      ],
      "execution_count": 7,
      "outputs": [
        {
          "output_type": "stream",
          "text": [
            "Found 2000 images belonging to 5 classes.\n",
            "Found 499 images belonging to 5 classes.\n"
          ],
          "name": "stdout"
        }
      ]
    },
    {
      "cell_type": "code",
      "metadata": {
        "colab": {
          "base_uri": "https://localhost:8080/"
        },
        "id": "9rMhwZjJsTy_",
        "outputId": "5a2fd319-82b7-43ad-bd9a-357c71eaceb9"
      },
      "source": [
        "history_aug = model.fit(\n",
        "      train_generator_aug,\n",
        "      steps_per_epoch=20,\n",
        "      epochs=50,\n",
        "      validation_data=validation_generator,\n",
        "      validation_steps=10,\n",
        "      verbose=2,\n",
        "      callbacks=callback_list)"
      ],
      "execution_count": 8,
      "outputs": [
        {
          "output_type": "stream",
          "text": [
            "Epoch 1/50\n",
            "20/20 - 6s - loss: 0.9049 - acc: 0.7450 - val_loss: 0.0766 - val_acc: 0.9800\n",
            "\n",
            "Epoch 00001: val_acc did not improve from 1.00000\n",
            "Epoch 2/50\n",
            "20/20 - 5s - loss: 0.5792 - acc: 0.7850 - val_loss: 0.0452 - val_acc: 0.9900\n",
            "\n",
            "Epoch 00002: val_acc did not improve from 1.00000\n",
            "Epoch 3/50\n",
            "20/20 - 5s - loss: 0.4897 - acc: 0.8000 - val_loss: 0.0968 - val_acc: 0.9700\n",
            "\n",
            "Epoch 00003: val_acc did not improve from 1.00000\n",
            "Epoch 4/50\n",
            "20/20 - 5s - loss: 0.6614 - acc: 0.7550 - val_loss: 0.1353 - val_acc: 0.9600\n",
            "\n",
            "Epoch 00004: val_acc did not improve from 1.00000\n",
            "Epoch 5/50\n",
            "20/20 - 6s - loss: 0.4528 - acc: 0.8400 - val_loss: 0.2724 - val_acc: 0.8889\n",
            "\n",
            "Epoch 00005: val_acc did not improve from 1.00000\n",
            "Epoch 6/50\n",
            "20/20 - 5s - loss: 0.4435 - acc: 0.8150 - val_loss: 0.1797 - val_acc: 0.9100\n",
            "\n",
            "Epoch 00006: val_acc did not improve from 1.00000\n",
            "Epoch 7/50\n",
            "20/20 - 6s - loss: 0.5653 - acc: 0.7950 - val_loss: 0.1635 - val_acc: 0.9100\n",
            "\n",
            "Epoch 00007: val_acc did not improve from 1.00000\n",
            "Epoch 8/50\n",
            "20/20 - 6s - loss: 0.5315 - acc: 0.7850 - val_loss: 0.1708 - val_acc: 0.9400\n",
            "\n",
            "Epoch 00008: val_acc did not improve from 1.00000\n",
            "Epoch 9/50\n",
            "20/20 - 6s - loss: 0.5526 - acc: 0.7800 - val_loss: 0.1225 - val_acc: 0.9500\n",
            "\n",
            "Epoch 00009: val_acc did not improve from 1.00000\n",
            "Epoch 10/50\n",
            "20/20 - 5s - loss: 0.5894 - acc: 0.7900 - val_loss: 0.1102 - val_acc: 0.9798\n",
            "\n",
            "Epoch 00010: val_acc did not improve from 1.00000\n",
            "Epoch 11/50\n",
            "20/20 - 5s - loss: 0.4428 - acc: 0.8250 - val_loss: 0.1236 - val_acc: 0.9600\n",
            "\n",
            "Epoch 00011: val_acc did not improve from 1.00000\n",
            "Epoch 12/50\n",
            "20/20 - 6s - loss: 0.4192 - acc: 0.8400 - val_loss: 0.1280 - val_acc: 0.9600\n",
            "\n",
            "Epoch 00012: val_acc did not improve from 1.00000\n",
            "Epoch 13/50\n",
            "20/20 - 5s - loss: 0.5333 - acc: 0.7600 - val_loss: 0.1216 - val_acc: 0.9700\n",
            "\n",
            "Epoch 00013: val_acc did not improve from 1.00000\n",
            "Epoch 14/50\n",
            "20/20 - 5s - loss: 0.3307 - acc: 0.8600 - val_loss: 0.3145 - val_acc: 0.8788\n",
            "\n",
            "Epoch 00014: val_acc did not improve from 1.00000\n",
            "Epoch 15/50\n",
            "20/20 - 5s - loss: 0.4606 - acc: 0.8150 - val_loss: 0.1471 - val_acc: 0.9500\n",
            "\n",
            "Epoch 00015: val_acc did not improve from 1.00000\n",
            "Epoch 16/50\n",
            "20/20 - 6s - loss: 0.4756 - acc: 0.8400 - val_loss: 0.0842 - val_acc: 0.9700\n",
            "\n",
            "Epoch 00016: val_acc did not improve from 1.00000\n",
            "Epoch 17/50\n",
            "20/20 - 5s - loss: 0.2892 - acc: 0.8850 - val_loss: 0.0956 - val_acc: 0.9600\n",
            "\n",
            "Epoch 00017: val_acc did not improve from 1.00000\n"
          ],
          "name": "stdout"
        }
      ]
    },
    {
      "cell_type": "markdown",
      "metadata": {
        "id": "rGH8XqBOsBrw"
      },
      "source": [
        ""
      ]
    }
  ]
}